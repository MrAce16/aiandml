{
 "cells": [
  {
   "cell_type": "markdown",
   "metadata": {},
   "source": [
    "# step 1: import the modules and frameworks"
   ]
  },
  {
   "cell_type": "code",
   "execution_count": 3,
   "metadata": {
    "ExecuteTime": {
     "end_time": "2021-04-13T06:37:41.229327Z",
     "start_time": "2021-04-13T06:37:41.211326Z"
    }
   },
   "outputs": [],
   "source": [
    "# KNN Classification\n",
    "from pandas import read_csv\n",
    "from sklearn.neighbors import KNeighborsClassifier"
   ]
  },
  {
   "cell_type": "markdown",
   "metadata": {},
   "source": [
    "# step 2: acquire the data"
   ]
  },
  {
   "cell_type": "code",
   "execution_count": 4,
   "metadata": {
    "ExecuteTime": {
     "end_time": "2021-04-13T06:37:42.379410Z",
     "start_time": "2021-04-13T06:37:42.367421Z"
    }
   },
   "outputs": [],
   "source": [
    "filename = 'https://raw.githubusercontent.com/enuguru/aiandml/master/datasets/bankloan_classification_train.csv'\n",
    "names = ['age', 'loanamount', 'status']\n",
    "df = read_csv(filename, names=names)"
   ]
  },
  {
   "cell_type": "code",
   "execution_count": 10,
   "metadata": {},
   "outputs": [
    {
     "name": "stdout",
     "output_type": "stream",
     "text": [
      "    age  loanamount  status\n",
      "0    41      149000       0\n",
      "1    25       40000       1\n",
      "2    35       60000       1\n",
      "3    45       80000       1\n",
      "4    20       20000       1\n",
      "5    35      120000       1\n",
      "6    52       18000       0\n",
      "7    23       95000       0\n",
      "8    40       62000       0\n",
      "9    60      100000       0\n",
      "10   48      220000       0\n",
      "11   33      150000       0\n"
     ]
    }
   ],
   "source": [
    "print(df)"
   ]
  },
  {
   "cell_type": "markdown",
   "metadata": {},
   "source": [
    "# step 3: inspect the data and segregate the input and output"
   ]
  },
  {
   "cell_type": "code",
   "execution_count": 5,
   "metadata": {
    "ExecuteTime": {
     "end_time": "2021-04-13T06:37:43.388321Z",
     "start_time": "2021-04-13T06:37:43.367330Z"
    }
   },
   "outputs": [],
   "source": [
    "array = df.values\n",
    "inputx = array[:,0:2]\n",
    "outputy = array[:,2]"
   ]
  },
  {
   "cell_type": "markdown",
   "metadata": {},
   "source": [
    "# step 4: select the model"
   ]
  },
  {
   "cell_type": "code",
   "execution_count": 13,
   "metadata": {
    "ExecuteTime": {
     "end_time": "2021-04-13T06:37:44.397047Z",
     "start_time": "2021-04-13T06:37:44.386054Z"
    }
   },
   "outputs": [],
   "source": [
    "thismodel = KNeighborsClassifier()"
   ]
  },
  {
   "cell_type": "markdown",
   "metadata": {},
   "source": [
    "# step 5: train the model"
   ]
  },
  {
   "cell_type": "code",
   "execution_count": 14,
   "metadata": {},
   "outputs": [
    {
     "name": "stdout",
     "output_type": "stream",
     "text": [
      "\n",
      "The parameters of the model are\n",
      "\n",
      " {'algorithm': 'auto', 'leaf_size': 30, 'metric': 'minkowski', 'metric_params': None, 'n_jobs': None, 'n_neighbors': 5, 'p': 2, 'weights': 'uniform'}\n",
      "KNeighborsClassifier()\n"
     ]
    }
   ],
   "source": [
    "print(\"\\nThe parameters of the model are\\n\\n\",thismodel.get_params())\n",
    "print(thismodel.fit(inputx,outputy))"
   ]
  },
  {
   "cell_type": "markdown",
   "metadata": {},
   "source": [
    "# step 6: test the model"
   ]
  },
  {
   "cell_type": "code",
   "execution_count": 22,
   "metadata": {
    "ExecuteTime": {
     "end_time": "2021-04-13T06:37:45.356512Z",
     "start_time": "2021-04-13T06:37:45.328528Z"
    }
   },
   "outputs": [
    {
     "name": "stdout",
     "output_type": "stream",
     "text": [
      "   age  loanamount\n",
      "0   48      149000\n",
      "1   35      192000\n",
      "2   39        6750\n",
      "3   29        2000\n"
     ]
    }
   ],
   "source": [
    "filename = 'https://raw.githubusercontent.com/enuguru/aiandml/master/datasets/bankloan_classification_test.csv'\n",
    "names = ['age', 'loanamount']\n",
    "newdataframe = read_csv(filename, names=names)\n",
    "array = newdataframe.values\n",
    "testinputz = array[0:4,0:2]\n",
    "print(newdataframe)"
   ]
  },
  {
   "cell_type": "markdown",
   "metadata": {},
   "source": [
    "# step 7: print the results"
   ]
  },
  {
   "cell_type": "code",
   "execution_count": 25,
   "metadata": {
    "ExecuteTime": {
     "end_time": "2021-04-13T06:37:32.949519Z",
     "start_time": "2021-04-13T06:37:32.924535Z"
    }
   },
   "outputs": [
    {
     "name": "stdout",
     "output_type": "stream",
     "text": [
      "['WillNotPay', 'WillNotPay', 'WillPay', 'WillPay']\n"
     ]
    }
   ],
   "source": [
    "res=thismodel.predict(testinputz)\n",
    "reslist=[]\n",
    "for val in res:\n",
    "    if val==0:\n",
    "        reslist.append(\"WillNotPay\")\n",
    "    else:\n",
    "        reslist.append(\"WillPay\")\n",
    "print(reslist)"
   ]
  },
  {
   "cell_type": "code",
   "execution_count": 26,
   "metadata": {
    "ExecuteTime": {
     "end_time": "2021-04-13T06:37:34.007323Z",
     "start_time": "2021-04-13T06:37:33.992332Z"
    }
   },
   "outputs": [
    {
     "name": "stdout",
     "output_type": "stream",
     "text": [
      "[0 0 1 1]\n"
     ]
    }
   ],
   "source": [
    "res=thismodel.predict(testinputz)\n",
    "print(thismodel.predict(testinputz))"
   ]
  },
  {
   "cell_type": "code",
   "execution_count": null,
   "metadata": {},
   "outputs": [],
   "source": []
  }
 ],
 "metadata": {
  "kernelspec": {
   "display_name": "Python 3 (ipykernel)",
   "language": "python",
   "name": "python3"
  },
  "language_info": {
   "codemirror_mode": {
    "name": "ipython",
    "version": 3
   },
   "file_extension": ".py",
   "mimetype": "text/x-python",
   "name": "python",
   "nbconvert_exporter": "python",
   "pygments_lexer": "ipython3",
   "version": "3.10.13"
  }
 },
 "nbformat": 4,
 "nbformat_minor": 2
}
