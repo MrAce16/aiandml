{
  "nbformat": 4,
  "nbformat_minor": 0,
  "metadata": {
    "colab": {
      "provenance": []
    },
    "kernelspec": {
      "name": "python3",
      "display_name": "Python 3"
    },
    "language_info": {
      "name": "python"
    }
  },
  "cells": [
    {
      "cell_type": "code",
      "source": [
        "import numpy as np\n",
        "import pandas as pd\n",
        "from sklearn.model_selection import train_test_split\n",
        "from sklearn.preprocessing import StandardScaler\n",
        "from tensorflow.keras.models import Sequential\n",
        "from tensorflow.keras.layers import Dense"
      ],
      "metadata": {
        "id": "kTPudcaS3rZ9"
      },
      "execution_count": 2,
      "outputs": []
    },
    {
      "cell_type": "code",
      "source": [
        "# Sample data for training (age, loan_amount, label: 1=paid, 0=default)\n",
        "#data = {\n",
        "#    'age': [25, 45, 35, 50, 23, 30, 55, 60, 40, 65],\n",
        "#    'loan_amount': [5000, 12000, 10000, 15000, 4000, 8000, 20000, 25000, 9000, 30000],\n",
        "#    'label': [1, 0, 1, 0, 1, 1, 0, 0, 1, 0]  # 1 = paid, 0 = default\n",
        "#}\n",
        "\n",
        "# Convert data to DataFrame\n",
        "data = pd.read_csv(\"/content/sample_data/bankloan_classification_train.csv\")\n",
        "\n",
        "# Split features and labels\n",
        "# Separate features (X) and labels (y)\n",
        "X = data.iloc[:, :-1].values  # All columns except the last one are features\n",
        "y = data.iloc[:, -1].values   # The last column is the target (Outcome: 0 or 1)\n"
      ],
      "metadata": {
        "id": "id1rBKga3v3x"
      },
      "execution_count": 6,
      "outputs": []
    },
    {
      "cell_type": "code",
      "execution_count": 7,
      "metadata": {
        "colab": {
          "base_uri": "https://localhost:8080/"
        },
        "id": "gONEWOVQjeIk",
        "outputId": "f92514db-5333-4b3f-9e16-c9c0ab845ecf"
      },
      "outputs": [
        {
          "output_type": "stream",
          "name": "stderr",
          "text": [
            "/usr/local/lib/python3.10/dist-packages/keras/src/layers/core/dense.py:87: UserWarning: Do not pass an `input_shape`/`input_dim` argument to a layer. When using Sequential models, prefer using an `Input(shape)` object as the first layer in the model instead.\n",
            "  super().__init__(activity_regularizer=activity_regularizer, **kwargs)\n"
          ]
        },
        {
          "output_type": "stream",
          "name": "stdout",
          "text": [
            "\u001b[1m1/1\u001b[0m \u001b[32m━━━━━━━━━━━━━━━━━━━━\u001b[0m\u001b[37m\u001b[0m \u001b[1m0s\u001b[0m 218ms/step - accuracy: 1.0000 - loss: 0.3172\n",
            "Test Accuracy: 100.00%\n",
            "\u001b[1m1/1\u001b[0m \u001b[32m━━━━━━━━━━━━━━━━━━━━\u001b[0m\u001b[37m\u001b[0m \u001b[1m0s\u001b[0m 73ms/step\n",
            "Customer 1: Repay\n",
            "Customer 2: Default\n",
            "Customer 3: Repay\n"
          ]
        }
      ],
      "source": [
        "# Split into training and testing sets\n",
        "X_train, X_test, y_train, y_test = train_test_split(X, y, test_size=0.2, random_state=42)\n",
        "\n",
        "# Standardize the data (normalize the age and loan_amount)\n",
        "scaler = StandardScaler()\n",
        "X_train_scaled = scaler.fit_transform(X_train)\n",
        "X_test_scaled = scaler.transform(X_test)\n",
        "\n",
        "# Build the neural network model\n",
        "model = Sequential()\n",
        "model.add(Dense(16, input_dim=2, activation='relu'))  # Input layer with 2 features\n",
        "model.add(Dense(8, activation='relu'))  # Hidden layer\n",
        "model.add(Dense(1, activation='sigmoid'))  # Output layer for binary classification\n",
        "\n",
        "# Compile the model\n",
        "model.compile(loss='binary_crossentropy', optimizer='adam', metrics=['accuracy'])\n",
        "\n",
        "# Train the model\n",
        "model.fit(X_train_scaled, y_train, epochs=100, batch_size=4, verbose=0)\n",
        "\n",
        "# Evaluate the model on the test set\n",
        "loss, accuracy = model.evaluate(X_test_scaled, y_test)\n",
        "print(f\"Test Accuracy: {accuracy * 100:.2f}%\")\n",
        "\n",
        "# Predict for 3 new samples\n",
        "# New customer samples (age, loan_amount)\n",
        "new_customers = np.array([[28, 6000], [50, 17000], [38, 11000]])\n",
        "\n",
        "# Scale the new customer data\n",
        "new_customers_scaled = scaler.transform(new_customers)\n",
        "\n",
        "# Predict whether they will repay or default\n",
        "\n",
        "\n",
        "predictions = model.predict(new_customers_scaled)\n",
        "\n",
        "# Print predictions (1 = repay, 0 = default)\n",
        "for i, prediction in enumerate(predictions):\n",
        "    print(f\"Customer {i + 1}: {'Repay' if prediction >= 0.5 else 'Default'}\")\n"
      ]
    }
  ]
}